{
 "cells": [
  {
   "cell_type": "code",
   "execution_count": 1,
   "id": "64d23ad7",
   "metadata": {},
   "outputs": [],
   "source": [
    "from bs4 import BeautifulSoup\n",
    "import requests\n",
    "import time\n",
    "import datetime\n",
    "import smtplib"
   ]
  },
  {
   "cell_type": "code",
   "execution_count": 166,
   "id": "fc00831f",
   "metadata": {},
   "outputs": [
    {
     "name": "stdout",
     "output_type": "stream",
     "text": [
      "\n",
      "            Kindle Paperwhite (8 GB) – Now with a 6.8\" display and adjustable warm light – Black\n",
      "           \n",
      "\n",
      "                         $139.99\n",
      "                        \n",
      "\n",
      "                4.7 out of 5 stars\n",
      "               \n"
     ]
    }
   ],
   "source": [
    "#connect to website\n",
    "\n",
    "URL = 'https://www.amazon.com/Kindle-Paperwhite-adjustable-Ad-Supported/dp/B08KTZ8249/ref=sr_1_1?crid=20G6CZFL2LJL4&keywords=kindle+paperwhite+2023&qid=1686433270&sprefix=kindle+%2Caps%2C749&sr=8-1'\n",
    "\n",
    "headers = {\"User-Agent\": \"Mozilla/5.0 (Windows NT 10.0; Win64; x64) AppleWebKit/537.36 (KHTML, like Gecko) Chrome/114.0.0.0 Safari/537.36\"}\n",
    "\n",
    "page =  requests.get(URL,headers = headers)\n",
    "\n",
    "soup1 = BeautifulSoup(page.content, 'html.parser') #pulls the html code of page\n",
    "\n",
    "soup2 = BeautifulSoup(soup1.prettify(),'html.parser') #formats html code to look better\n",
    "\n",
    "title = soup2.find('span',attrs={\"id\":'productTitle'}).get_text()\n",
    "\n",
    "price = soup2.find('span',class_=\"a-offscreen\").get_text()\n",
    "\n",
    "ratings = soup2.find('span',class_='a-icon-alt').get_text()\n",
    "\n",
    "print(title)\n",
    "print(price)\n",
    "print(ratings)"
   ]
  },
  {
   "cell_type": "code",
   "execution_count": 167,
   "id": "265fbe27",
   "metadata": {},
   "outputs": [
    {
     "name": "stdout",
     "output_type": "stream",
     "text": [
      "Kindle Paperwhite (8 GB) – Now with a 6.8\" display and adjustable warm light – Black\n",
      "139.99\n"
     ]
    }
   ],
   "source": [
    "#data cleaning\n",
    "title =title.strip()\n",
    "price = price.strip() [1:]\n",
    "print(title)\n",
    "print(price)\n"
   ]
  },
  {
   "cell_type": "code",
   "execution_count": 183,
   "id": "c7a258c3",
   "metadata": {},
   "outputs": [
    {
     "name": "stdout",
     "output_type": "stream",
     "text": [
      "4.7 out of 5 stars\n",
      "2023-06-10\n"
     ]
    }
   ],
   "source": [
    "ratings = ratings.strip()\n",
    "print(ratings)\n",
    "today = datetime.date.today()\n",
    "print(today)"
   ]
  },
  {
   "cell_type": "code",
   "execution_count": 184,
   "id": "8ae357b3",
   "metadata": {},
   "outputs": [],
   "source": [
    "#create csv and write header and content to it\n",
    "#if ran multiple times it will overwrite the data\n",
    "\n",
    "import csv\n",
    "\n",
    "header = ['Title','Price','Date','Rating']\n",
    "data = [title, price, today,ratings]\n",
    "\n",
    "with open('AmazonDataSet.csv','w', newline = '', encoding = 'UTF8') as f:\n",
    "    writer = csv.writer(f)\n",
    "    writer.writerow(header)\n",
    "    writer.writerow(data)\n"
   ]
  },
  {
   "cell_type": "code",
   "execution_count": 185,
   "id": "13b2cc3e",
   "metadata": {},
   "outputs": [
    {
     "name": "stdout",
     "output_type": "stream",
     "text": [
      "                                               Title   Price        Date  \\\n",
      "0  Kindle Paperwhite (8 GB) – Now with a 6.8\" dis...  139.99  2023-06-10   \n",
      "\n",
      "               Rating  \n",
      "0  4.7 out of 5 stars  \n"
     ]
    }
   ],
   "source": [
    "#using pandas to read the file, instead of manually opening it\n",
    "\n",
    "import pandas as pd\n",
    "\n",
    "df= pd.read_csv(r'C:\\Users\\Aryana\\AmazonDataSet.csv')\n",
    "print(df)"
   ]
  },
  {
   "cell_type": "code",
   "execution_count": 191,
   "id": "13439e68",
   "metadata": {},
   "outputs": [
    {
     "name": "stdout",
     "output_type": "stream",
     "text": [
      "                                               Title   Price        Date  \\\n",
      "0  Kindle Paperwhite (8 GB) – Now with a 6.8\" dis...  139.99  2023-06-10   \n",
      "1  Kindle Paperwhite (8 GB) – Now with a 6.8\" dis...  139.99  2023-06-10   \n",
      "2  Kindle Paperwhite (8 GB) – Now with a 6.8\" dis...  139.99  2023-06-10   \n",
      "3  Kindle Paperwhite (8 GB) – Now with a 6.8\" dis...  139.99  2023-06-10   \n",
      "\n",
      "               Rating  \n",
      "0  4.7 out of 5 stars  \n",
      "1  4.7 out of 5 stars  \n",
      "2  4.7 out of 5 stars  \n",
      "3  4.7 out of 5 stars  \n"
     ]
    }
   ],
   "source": [
    "#appending data to the csv file\n",
    "\n",
    "with open('AmazonDataSet.csv','a+', newline = '', encoding = 'UTF8') as f:\n",
    "    writer = csv.writer(f)\n",
    "    writer.writerow(data)\n",
    "    \n",
    "df= pd.read_csv(r'C:\\Users\\Aryana\\AmazonDataSet.csv')\n",
    "print(df)"
   ]
  },
  {
   "cell_type": "code",
   "execution_count": 195,
   "id": "6ad5697f",
   "metadata": {},
   "outputs": [
    {
     "name": "stdout",
     "output_type": "stream",
     "text": [
      "Sucessfull\n"
     ]
    }
   ],
   "source": [
    "#Automating the price tracker and creating a timer\n",
    "\n",
    "def check_price():\n",
    "    URL = 'https://www.amazon.com/Kindle-Paperwhite-adjustable-Ad-Supported/dp/B08KTZ8249/ref=sr_1_1?crid=20G6CZFL2LJL4&keywords=kindle+paperwhite+2023&qid=1686433270&sprefix=kindle+%2Caps%2C749&sr=8-1'\n",
    "\n",
    "    headers = {\"User-Agent\": \"Mozilla/5.0 (Windows NT 10.0; Win64; x64) AppleWebKit/537.36 (KHTML, like Gecko) Chrome/114.0.0.0 Safari/537.36\"}\n",
    "\n",
    "    page =  requests.get(URL,headers = headers)\n",
    "\n",
    "    soup1 = BeautifulSoup(page.content, 'html.parser') #pulls the html code of page\n",
    "\n",
    "    soup2 = BeautifulSoup(soup1.prettify(),'html.parser') #formats html code to look better\n",
    "\n",
    "    title = soup2.find('span',attrs={\"id\":'productTitle'}).get_text()\n",
    "\n",
    "    price = soup2.find('span',class_=\"a-offscreen\").get_text()\n",
    "\n",
    "    ratings = soup2.find('span',class_='a-icon-alt').get_text()\n",
    "\n",
    "    title =title.strip()\n",
    "    price = price.strip() [1:]\n",
    "    ratings = ratings.strip()\n",
    "    today = datetime.date.today()\n",
    "    header = ['Title','Price','Date','Rating']\n",
    "    data = [title, price, today,ratings]\n",
    "\n",
    "    with open('AmazonDataSet.csv','a+', newline = '', encoding = 'UTF8') as f:\n",
    "        writer = csv.writer(f)\n",
    "        writer.writerow(data)\n",
    "        \n",
    "print('Sucessfull')"
   ]
  },
  {
   "cell_type": "code",
   "execution_count": null,
   "id": "af4105cb",
   "metadata": {},
   "outputs": [],
   "source": [
    "#run this every 5 secs, 1 day = 86400 secs\n",
    "while(True):\n",
    "    check_price()\n",
    "    time.sleep(5)\n"
   ]
  },
  {
   "cell_type": "code",
   "execution_count": 259,
   "id": "130ac1cc",
   "metadata": {},
   "outputs": [
    {
     "name": "stdout",
     "output_type": "stream",
     "text": [
      "                                               Title   Price        Date  \\\n",
      "0  Kindle Paperwhite (8 GB) – Now with a 6.8\" dis...  139.99  2023-06-10   \n",
      "1  Kindle Paperwhite (8 GB) – Now with a 6.8\" dis...  139.99  2023-06-10   \n",
      "2  Kindle Paperwhite (8 GB) – Now with a 6.8\" dis...  139.99  2023-06-10   \n",
      "3  Kindle Paperwhite (8 GB) – Now with a 6.8\" dis...  139.99  2023-06-10   \n",
      "4  Kindle Paperwhite (8 GB) – Now with a 6.8\" dis...  139.99  2023-06-10   \n",
      "5  Kindle Paperwhite (8 GB) – Now with a 6.8\" dis...  139.99  2023-06-10   \n",
      "6  Kindle Paperwhite (8 GB) – Now with a 6.8\" dis...  139.99  2023-06-10   \n",
      "\n",
      "               Rating  \n",
      "0  4.7 out of 5 stars  \n",
      "1  4.7 out of 5 stars  \n",
      "2  4.7 out of 5 stars  \n",
      "3  4.7 out of 5 stars  \n",
      "4  4.7 out of 5 stars  \n",
      "5  4.7 out of 5 stars  \n",
      "6  4.7 out of 5 stars  \n"
     ]
    }
   ],
   "source": [
    "df= pd.read_csv(r'C:\\Users\\Aryana\\AmazonDataSet.csv')\n",
    "print(df)"
   ]
  },
  {
   "cell_type": "code",
   "execution_count": null,
   "id": "5a679cc3",
   "metadata": {},
   "outputs": [],
   "source": []
  }
 ],
 "metadata": {
  "kernelspec": {
   "display_name": "Python 3 (ipykernel)",
   "language": "python",
   "name": "python3"
  },
  "language_info": {
   "codemirror_mode": {
    "name": "ipython",
    "version": 3
   },
   "file_extension": ".py",
   "mimetype": "text/x-python",
   "name": "python",
   "nbconvert_exporter": "python",
   "pygments_lexer": "ipython3",
   "version": "3.10.9"
  }
 },
 "nbformat": 4,
 "nbformat_minor": 5
}
